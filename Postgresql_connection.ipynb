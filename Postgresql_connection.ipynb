{
  "nbformat": 4,
  "nbformat_minor": 0,
  "metadata": {
    "colab": {
      "private_outputs": true,
      "provenance": [],
      "authorship_tag": "ABX9TyNJQbIXfLkg0VtwAo44b909",
      "include_colab_link": true
    },
    "kernelspec": {
      "name": "python3",
      "display_name": "Python 3"
    },
    "language_info": {
      "name": "python"
    }
  },
  "cells": [
    {
      "cell_type": "markdown",
      "metadata": {
        "id": "view-in-github",
        "colab_type": "text"
      },
      "source": [
        "<a href=\"https://colab.research.google.com/github/Kelvin-Data/Colab-PostgreSql/blob/main/Postgresql_connection.ipynb\" target=\"_parent\"><img src=\"https://colab.research.google.com/assets/colab-badge.svg\" alt=\"Open In Colab\"/></a>"
      ]
    },
    {
      "cell_type": "markdown",
      "source": [
        "https://www.redswitches.com/blog/databases-and-tables-in-postgresql/#:~:text=psql%20is%20a%20command%2Dline,databases%20on%20the%20database%20server."
      ],
      "metadata": {
        "id": "jZIafE23hHU_"
      }
    },
    {
      "cell_type": "markdown",
      "source": [
        "https://www.tutorialspoint.com/postgresql/postgresql_select_database.htm"
      ],
      "metadata": {
        "id": "IdidzmmMhPox"
      }
    },
    {
      "cell_type": "code",
      "execution_count": null,
      "metadata": {
        "id": "L571qyQiZLI7"
      },
      "outputs": [],
      "source": [
        "!apt update\n",
        "!apt install -y postgresql"
      ]
    },
    {
      "cell_type": "markdown",
      "source": [
        "Start App"
      ],
      "metadata": {
        "id": "qsV9O9iAZSMG"
      }
    },
    {
      "cell_type": "code",
      "source": [
        "!/etc/init.d/postgresql start"
      ],
      "metadata": {
        "id": "o1Tp9H81ZSjv"
      },
      "execution_count": null,
      "outputs": []
    },
    {
      "cell_type": "markdown",
      "source": [
        "Run App"
      ],
      "metadata": {
        "id": "-mh-VTYaZvA-"
      }
    },
    {
      "cell_type": "markdown",
      "source": [
        "psql -l"
      ],
      "metadata": {
        "id": "yPPWf-DUaQA0"
      }
    },
    {
      "cell_type": "markdown",
      "source": [
        "\\q"
      ],
      "metadata": {
        "id": "EE_pPsFJauGC"
      }
    },
    {
      "cell_type": "markdown",
      "source": [
        "psql -p 5432"
      ],
      "metadata": {
        "id": "WLdUayvTaWwT"
      }
    },
    {
      "cell_type": "markdown",
      "source": [
        "Use this database: \\c student"
      ],
      "metadata": {
        "id": "KucUzIz9jpYk"
      }
    },
    {
      "cell_type": "markdown",
      "source": [
        "Listing databases: \\l"
      ],
      "metadata": {
        "id": "tenIvjq3jwgV"
      }
    },
    {
      "cell_type": "markdown",
      "source": [
        "Listing databases:  SELECT datname FROM pg_database;"
      ],
      "metadata": {
        "id": "59x650YXkN7c"
      }
    },
    {
      "cell_type": "markdown",
      "source": [
        "Listing table: \\dt"
      ],
      "metadata": {
        "id": "itjI7geukXYV"
      }
    },
    {
      "cell_type": "markdown",
      "source": [
        "Describe table: \\d+ student"
      ],
      "metadata": {
        "id": "t5khLIcElS_X"
      }
    },
    {
      "cell_type": "code",
      "source": [
        "!sudo -u postgres -i"
      ],
      "metadata": {
        "id": "eg08lKEsZxB9"
      },
      "execution_count": null,
      "outputs": []
    }
  ]
}